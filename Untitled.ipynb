{
 "cells": [
  {
   "cell_type": "code",
   "execution_count": null,
   "id": "d9b28d5f-a3d7-409c-a02b-5dc5fbe8be9c",
   "metadata": {},
   "outputs": [],
   "source": [
    "for number in range(3):\n",
    "    print(\"Attempt\", number+1, (number+1)*\".\")\n",
    "for number in range(3, 10):\n",
    "    print(\"Attempt\", number+1, (number+1)*\".\")\n",
    "for number in range(3, 10, 2):\n",
    "    print(\"Attempt\", number+1, (number+1)*\".\")"
   ]
  }
 ],
 "metadata": {
  "kernelspec": {
   "display_name": "Python 3 (ipykernel)",
   "language": "python",
   "name": "python3"
  },
  "language_info": {
   "codemirror_mode": {
    "name": "ipython",
    "version": 3
   },
   "file_extension": ".py",
   "mimetype": "text/x-python",
   "name": "python",
   "nbconvert_exporter": "python",
   "pygments_lexer": "ipython3",
   "version": "3.13.0"
  }
 },
 "nbformat": 4,
 "nbformat_minor": 5
}
